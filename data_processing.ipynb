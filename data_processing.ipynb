{
 "cells": [
  {
   "cell_type": "code",
   "execution_count": 6,
   "metadata": {
    "collapsed": true
   },
   "outputs": [],
   "source": [
    "%matplotlib inline\n",
    "import os\n",
    "import pandas as pd\n",
    "from matplotlib import pyplot as plt\n",
    "import numpy as np\n",
    "import math\n",
    "import seaborn as sns\n",
    "#from termcolor import colored\n",
    "from numbers import Number\n",
    "from scipy import stats\n",
    "from pandas import plotting"
   ]
  },
  {
   "cell_type": "code",
   "execution_count": 7,
   "metadata": {},
   "outputs": [],
   "source": [
    "df3b = pd.read_csv(\"LoanStats3b.csv\", low_memory=False)\n",
    "df3c = pd.read_csv(\"LoanStats3c.csv\", low_memory=False)\n",
    "df3d = pd.read_csv(\"LoanStats3d.csv\", low_memory=False)\n",
    "\n",
    "# 2016\n",
    "df16Q1 = pd.read_csv(\"LoanStats_2016Q1.csv\", low_memory=False)\n",
    "df16Q2 = pd.read_csv(\"LoanStats_2016Q2.csv\", low_memory=False)\n",
    "df16Q3 = pd.read_csv(\"LoanStats_2016Q3.csv\", low_memory=False)\n",
    "df16Q4 = pd.read_csv(\"LoanStats_2016Q4.csv\", low_memory=False)\n",
    "\n",
    "# 2017\n",
    "df17Q1 = pd.read_csv(\"LoanStats_2017Q1.csv\", low_memory=False)\n",
    "df17Q2 = pd.read_csv(\"LoanStats_2017Q2.csv\", low_memory=False)\n",
    "df17Q3 = pd.read_csv(\"LoanStats_2017Q3.csv\", low_memory=False)\n"
   ]
  },
  {
   "cell_type": "code",
   "execution_count": 9,
   "metadata": {},
   "outputs": [],
   "source": [
    "frames = [df3a, df3b, df3c,df3d, df16Q1,df16Q2,df16Q3,df16Q4,df17Q1,df17Q2,df17Q3]\n",
    "loan_data = pd.concat(frames)"
   ]
  },
  {
   "cell_type": "code",
   "execution_count": 10,
   "metadata": {},
   "outputs": [],
   "source": [
    "loan_data.to_csv(\"loan_data_complete.csv\", sep=',')"
   ]
  },
  {
   "cell_type": "code",
   "execution_count": 5,
   "metadata": {},
   "outputs": [
    {
     "name": "stdout",
     "output_type": "stream",
     "text": [
      "done\n"
     ]
    }
   ],
   "source": [
    "print(\"done\")"
   ]
  },
  {
   "cell_type": "code",
   "execution_count": 61,
   "metadata": {},
   "outputs": [
    {
     "name": "stdout",
     "output_type": "stream",
     "text": [
      "TRUE\n"
     ]
    }
   ],
   "source": []
  },
  {
   "cell_type": "code",
   "execution_count": 75,
   "metadata": {},
   "outputs": [],
   "source": [
    "dict_zip = {}\n",
    "for i in df17Q3[\"zip_code\"]:\n",
    "    if i in dict_zip:\n",
    "        dict_zip[i] +=1\n",
    "    else:\n",
    "        dict_zip[i] = 1\n",
    "    # if dict_zip contain i:\n",
    "        # put the index of this zipcode to dictionary dict_zip:\n",
    "            # \n"
   ]
  },
  {
   "cell_type": "code",
   "execution_count": 80,
   "metadata": {},
   "outputs": [
    {
     "data": {
      "text/plain": [
       "858"
      ]
     },
     "execution_count": 80,
     "metadata": {},
     "output_type": "execute_result"
    }
   ],
   "source": []
  },
  {
   "cell_type": "code",
   "execution_count": null,
   "metadata": {
    "collapsed": true
   },
   "outputs": [],
   "source": [
    "df3b = pd.read_csv(\"LoanStats3b.csv\", low_memory=False)\n",
    "df3c = pd.read_csv(\"LoanStats3c.csv\", low_memory=False)\n",
    "df3d = pd.read_csv(\"LoanStats3d.csv\", low_memory=False)\n",
    "\n",
    "# 2016\n",
    "df16Q1 = pd.read_csv(\"LoanStats_2016Q1.csv\", low_memory=False)\n",
    "df16Q2 = pd.read_csv(\"LoanStats_2016Q2.csv\", low_memory=False)\n",
    "df16Q3 = pd.read_csv(\"LoanStats_2016Q3.csv\", low_memory=False)\n",
    "df16Q4 = pd.read_csv(\"LoanStats_2016Q4.csv\", low_memory=False)\n",
    "\n",
    "# 2017\n",
    "df17Q1 = pd.read_csv(\"LoanStats_2017Q1.csv\", low_memory=False)\n",
    "df17Q2 = pd.read_csv(\"LoanStats_2017Q2.csv\", low_memory=False)\n",
    "df17Q3 = pd.read_csv(\"LoanStats_2017Q3.csv\", low_memory=False)"
   ]
  }
 ],
 "metadata": {
  "kernelspec": {
   "display_name": "Python 3",
   "language": "python",
   "name": "python3"
  },
  "language_info": {
   "codemirror_mode": {
    "name": "ipython",
    "version": 3
   },
   "file_extension": ".py",
   "mimetype": "text/x-python",
   "name": "python",
   "nbconvert_exporter": "python",
   "pygments_lexer": "ipython3",
   "version": "3.6.3"
  }
 },
 "nbformat": 4,
 "nbformat_minor": 2
}
