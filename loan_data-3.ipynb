{
 "cells": [
  {
   "cell_type": "code",
   "execution_count": 10,
   "metadata": {
    "collapsed": true,
    "scrolled": true
   },
   "outputs": [],
   "source": [
    "%matplotlib inline\n",
    "import os\n",
    "import pandas as pd\n",
    "from matplotlib import pyplot as plt\n",
    "import numpy as np\n",
    "import math\n",
    "import seaborn as sns\n",
    "#from termcolor import colored\n",
    "from numbers import Number\n",
    "from scipy import stats\n",
    "from pandas import plotting\n"
   ]
  },
  {
   "cell_type": "code",
   "execution_count": 11,
   "metadata": {
    "scrolled": true
   },
   "outputs": [
    {
     "name": "stderr",
     "output_type": "stream",
     "text": [
      "/Users/zhejianpeng/anaconda3/lib/python3.6/site-packages/IPython/core/interactiveshell.py:2698: DtypeWarning: Columns (0,123,124,125,128,129,130,133,139,140,141) have mixed types. Specify dtype option on import or set low_memory=False.\n",
      "  interactivity=interactivity, compiler=compiler, result=result)\n"
     ]
    }
   ],
   "source": [
    "# load data\n",
    "df = pd.read_csv(\"LoanStats_2017Q3.csv\")\n",
    "loan_data = pd.read_csv(\"LoanStats_2017Q3.csv\")"
   ]
  },
  {
   "cell_type": "markdown",
   "metadata": {},
   "source": [
    "Step1 : Delete all data col. with Strings."
   ]
  },
  {
   "cell_type": "code",
   "execution_count": 12,
   "metadata": {
    "collapsed": true
   },
   "outputs": [],
   "source": [
    "delete_key = {}"
   ]
  },
  {
   "cell_type": "code",
   "execution_count": 13,
   "metadata": {
    "collapsed": true,
    "scrolled": true
   },
   "outputs": [],
   "source": [
    "for key, value in loan_data.iteritems():\n",
    "    num_value = 0\n",
    "    num_nan = 0\n",
    "    counter = 0\n",
    "    for i in value:\n",
    "        counter +=1\n",
    "        if isinstance(i, str):\n",
    "            num_value +=1\n",
    "    if num_value > 10000:\n",
    "        delete_key[key] = 'input is a string' \n",
    "        loan_data.drop(key, 1, inplace= True)\n",
    "    num_value = 0\n",
    "    num_nan = 0\n",
    "    counter = 0"
   ]
  },
  {
   "cell_type": "markdown",
   "metadata": {},
   "source": [
    "Step 2: Delete col with too many missing data"
   ]
  },
  {
   "cell_type": "code",
   "execution_count": 14,
   "metadata": {},
   "outputs": [
    {
     "name": "stdout",
     "output_type": "stream",
     "text": [
      "Meaningful Data \n",
      "Key\t\t\t\t\t\t\t\tSize of Data \n",
      "===========================================================================\n",
      "loan_amnt                                                        122701\n",
      "funded_amnt                                                      122701\n",
      "funded_amnt_inv                                                  122701\n",
      "installment                                                      122701\n",
      "annual_inc                                                       122701\n",
      "dti                                                              122517\n",
      "delinq_2yrs                                                      122701\n",
      "inq_last_6mths                                                   122701\n",
      "mths_since_last_delinq                                            62236\n",
      "mths_since_last_record                                            18838\n",
      "open_acc                                                         122701\n",
      "pub_rec                                                          122701\n",
      "revol_bal                                                        122701\n",
      "total_acc                                                        122701\n",
      "out_prncp                                                        122701\n",
      "out_prncp_inv                                                    122701\n",
      "total_pymnt                                                      122701\n",
      "total_pymnt_inv                                                  122701\n",
      "total_rec_prncp                                                  122701\n",
      "total_rec_int                                                    122701\n",
      "total_rec_late_fee                                               122701\n",
      "recoveries                                                       122701\n",
      "collection_recovery_fee                                          122701\n",
      "last_pymnt_amnt                                                  122701\n",
      "collections_12_mths_ex_med                                       122701\n",
      "mths_since_last_major_derog                                       33252\n",
      "policy_code                                                      122701\n",
      "annual_inc_joint                                                  13994\n",
      "dti_joint                                                         13994\n",
      "acc_now_delinq                                                   122701\n",
      "tot_coll_amt                                                     122701\n",
      "tot_cur_bal                                                      122701\n",
      "open_acc_6m                                                      122701\n",
      "open_act_il                                                      122701\n",
      "open_il_12m                                                      122701\n",
      "open_il_24m                                                      122701\n",
      "mths_since_rcnt_il                                               119164\n",
      "total_bal_il                                                     122701\n",
      "il_util                                                          105893\n",
      "open_rv_12m                                                      122701\n",
      "open_rv_24m                                                      122701\n",
      "max_bal_bc                                                       122701\n",
      "all_util                                                         122687\n",
      "total_rev_hi_lim                                                 122701\n",
      "inq_fi                                                           122701\n",
      "total_cu_tl                                                      122701\n",
      "inq_last_12m                                                     122701\n",
      "acc_open_past_24mths                                             122701\n",
      "avg_cur_bal                                                      122696\n",
      "bc_open_to_buy                                                   120965\n",
      "bc_util                                                          120906\n",
      "chargeoff_within_12_mths                                         122701\n",
      "delinq_amnt                                                      122701\n",
      "mo_sin_old_il_acct                                               119164\n",
      "mo_sin_old_rev_tl_op                                             122701\n",
      "mo_sin_rcnt_rev_tl_op                                            122701\n",
      "mo_sin_rcnt_tl                                                   122701\n",
      "mort_acc                                                         122701\n",
      "mths_since_recent_bc                                             121065\n",
      "mths_since_recent_bc_dlq                                          29096\n",
      "mths_since_recent_inq                                            108811\n",
      "mths_since_recent_revol_delinq                                    42255\n",
      "num_accts_ever_120_pd                                            122701\n",
      "num_actv_bc_tl                                                   122701\n",
      "num_actv_rev_tl                                                  122701\n",
      "num_bc_sats                                                      122701\n",
      "num_bc_tl                                                        122701\n",
      "num_il_tl                                                        122701\n",
      "num_op_rev_tl                                                    122701\n",
      "num_rev_accts                                                    122701\n",
      "num_rev_tl_bal_gt_0                                              122701\n",
      "num_sats                                                         122701\n",
      "num_tl_120dpd_2m                                                 117266\n",
      "num_tl_30dpd                                                     122701\n",
      "num_tl_90g_dpd_24m                                               122701\n",
      "num_tl_op_past_12m                                               122701\n",
      "pct_tl_nvr_dlq                                                   122701\n",
      "percent_bc_gt_75                                                 120963\n",
      "pub_rec_bankruptcies                                             122701\n",
      "tax_liens                                                        122701\n",
      "tot_hi_cred_lim                                                  122701\n",
      "total_bal_ex_mort                                                122701\n",
      "total_bc_limit                                                   122701\n",
      "total_il_high_credit_limit                                       122701\n",
      "revol_bal_joint                                                   13994\n",
      "sec_app_inq_last_6mths                                            13994\n",
      "sec_app_mort_acc                                                  13994\n",
      "sec_app_open_acc                                                  13994\n",
      "sec_app_revol_util                                                13789\n",
      "sec_app_open_act_il                                               13994\n",
      "sec_app_num_rev_accts                                             13994\n",
      "sec_app_chargeoff_within_12_mths                                  13994\n",
      "sec_app_collections_12_mths_ex_med                                13994\n",
      "sec_app_mths_since_last_major_derog                                4851\n",
      "deferral_term                                                       115\n",
      "hardship_amount                                                     115\n",
      "hardship_length                                                     115\n",
      "hardship_dpd                                                        115\n",
      "orig_projected_additional_accrued_interest                          105\n",
      "hardship_payoff_balance_amount                                      115\n",
      "hardship_last_payment_amount                                        115\n",
      "settlement_amount                                                     4\n",
      "settlement_percentage                                                 4\n",
      "settlement_term                                                       4\n"
     ]
    }
   ],
   "source": [
    "print(\"Meaningful Data \\nKey\\t\\t\\t\\t\\t\\t\\t\\tSize of Data \\n==============================\\\n",
    "=============================================\")\n",
    "for key, value in loan_data.iteritems():\n",
    "    num_value = 0\n",
    "    num_nan = 0\n",
    "    for i in value:\n",
    "        try:\n",
    "            if isinstance(i, Number) and (not math.isnan(i)):\n",
    "                num_value +=1\n",
    "            else: \n",
    "                num_nan += 1\n",
    "        except TypeError:\n",
    "            print(\"Type Error: \", key)\n",
    "    if num_value == 0:\n",
    "        delete_key[key] = \"no data in the column\"\n",
    "        #print(\"no meaningful value:\", key)\n",
    "        loan_data.drop(key, 1, inplace= True)\n",
    "    else:\n",
    "        print('%-50s' %key, '%20s'%(num_value,))\n",
    "    num_value = 0\n",
    "    num_nan = 0"
   ]
  },
  {
   "cell_type": "code",
   "execution_count": 17,
   "metadata": {},
   "outputs": [
    {
     "data": {
      "text/plain": [
       "{'addr_state': 'input is a string',\n",
       " 'application_type': 'input is a string',\n",
       " 'debt_settlement_flag': 'input is a string',\n",
       " 'debt_settlement_flag_date': 'no data in the column',\n",
       " 'desc': 'no data in the column',\n",
       " 'disbursement_method': 'input is a string',\n",
       " 'earliest_cr_line': 'input is a string',\n",
       " 'emp_length': 'input is a string',\n",
       " 'emp_title': 'input is a string',\n",
       " 'grade': 'input is a string',\n",
       " 'hardship_end_date': 'no data in the column',\n",
       " 'hardship_flag': 'input is a string',\n",
       " 'hardship_loan_status': 'no data in the column',\n",
       " 'hardship_reason': 'no data in the column',\n",
       " 'hardship_start_date': 'no data in the column',\n",
       " 'hardship_status': 'no data in the column',\n",
       " 'hardship_type': 'no data in the column',\n",
       " 'home_ownership': 'input is a string',\n",
       " 'id': 'no data in the column',\n",
       " 'initial_list_status': 'input is a string',\n",
       " 'int_rate': 'input is a string',\n",
       " 'issue_d': 'input is a string',\n",
       " 'last_credit_pull_d': 'input is a string',\n",
       " 'last_pymnt_d': 'input is a string',\n",
       " 'loan_status': 'input is a string',\n",
       " 'member_id': 'no data in the column',\n",
       " 'next_pymnt_d': 'input is a string',\n",
       " 'payment_plan_start_date': 'no data in the column',\n",
       " 'purpose': 'input is a string',\n",
       " 'pymnt_plan': 'input is a string',\n",
       " 'revol_util': 'input is a string',\n",
       " 'sec_app_earliest_cr_line': 'input is a string',\n",
       " 'settlement_date': 'no data in the column',\n",
       " 'settlement_status': 'no data in the column',\n",
       " 'sub_grade': 'input is a string',\n",
       " 'term': 'input is a string',\n",
       " 'title': 'input is a string',\n",
       " 'url': 'no data in the column',\n",
       " 'verification_status': 'input is a string',\n",
       " 'verification_status_joint': 'input is a string',\n",
       " 'zip_code': 'input is a string'}"
      ]
     },
     "execution_count": 17,
     "metadata": {},
     "output_type": "execute_result"
    }
   ],
   "source": [
    "# I have deleted 41 variables in total.\n",
    "delete_key"
   ]
  },
  {
   "cell_type": "markdown",
   "metadata": {},
   "source": [
    "\n",
    "Step 3: For rest of numerical data left in loan_data I will do data statistical analysis"
   ]
  },
  {
   "cell_type": "code",
   "execution_count": 346,
   "metadata": {
    "collapsed": true
   },
   "outputs": [],
   "source": [
    "data_analysis = {}\n",
    "data_quality_summary = {}\n",
    "\n",
    "def mean(value):\n",
    "    num_value = 0\n",
    "    for i in value:\n",
    "        if isinstance(i, Number) and (not math.isnan(i)):\n",
    "            num_value +=1\n",
    "#    print(\"num_value = \", num_value)\n",
    "    return (np.sum(value) / num_value), num_value\n",
    "\n",
    "def var(value, mean):\n",
    "    square_sum = 0\n",
    "    num_value = 0\n",
    "    for i in value:\n",
    "        if isinstance(i, Number) and (not math.isnan(i)):\n",
    "            num_value +=1\n",
    "            square_sum += (i - mean) ** 2\n",
    "#    print(\"num_value = \", num_value)\n",
    "    return square_sum / (num_value -1)\n",
    "\n",
    "\n"
   ]
  },
  {
   "cell_type": "code",
   "execution_count": 347,
   "metadata": {
    "collapsed": true
   },
   "outputs": [],
   "source": [
    "# Store num of value, mean, variance, max, min, median in a dictionary\n",
    "for key, value in loan_data.iteritems():\n",
    "    mu, num_value = mean(value)\n",
    "    data_analysis[\"num_value\"] = num_value\n",
    "    data_analysis[\"mean\"] = mu\n",
    "    data_analysis[\"variance\"] = var(value, mu)\n",
    "    data_analysis[\"max\"] = np.max(value)\n",
    "    data_analysis[\"min\"] = np.min(value)\n",
    "    data_analysis[\"spread\"] = data_analysis[\"max\"] - data_analysis[\"min\"]\n",
    "    data_quality_summary[key] = data_analysis"
   ]
  },
  {
   "cell_type": "markdown",
   "metadata": {},
   "source": [
    "Step 4: Covariance analysis"
   ]
  },
  {
   "cell_type": "code",
   "execution_count": 356,
   "metadata": {
    "collapsed": true
   },
   "outputs": [],
   "source": [
    "all_keys = []\n",
    "for key, value in loan_data.iteritems():\n",
    "    all_keys.append(key)\n"
   ]
  },
  {
   "cell_type": "code",
   "execution_count": null,
   "metadata": {
    "collapsed": true
   },
   "outputs": [],
   "source": []
  },
  {
   "cell_type": "code",
   "execution_count": null,
   "metadata": {},
   "outputs": [
    {
     "name": "stderr",
     "output_type": "stream",
     "text": [
      "/Users/zpeng8/anaconda3/lib/python3.6/site-packages/matplotlib/axes/_base.py:2918: UserWarning: Attempting to set identical left==right results\n",
      "in singular transformations; automatically expanding.\n",
      "left=0.0, right=0.0\n",
      "  'left=%s, right=%s') % (left, right))\n",
      "/Users/zpeng8/anaconda3/lib/python3.6/site-packages/matplotlib/axes/_base.py:2918: UserWarning: Attempting to set identical left==right results\n",
      "in singular transformations; automatically expanding.\n",
      "left=1.0, right=1.0\n",
      "  'left=%s, right=%s') % (left, right))\n",
      "/Users/zpeng8/anaconda3/lib/python3.6/site-packages/matplotlib/axes/_base.py:2918: UserWarning: Attempting to set identical left==right results\n",
      "in singular transformations; automatically expanding.\n",
      "left=3.0, right=3.0\n",
      "  'left=%s, right=%s') % (left, right))\n",
      "/Users/zpeng8/anaconda3/lib/python3.6/site-packages/matplotlib/axes/_base.py:3239: UserWarning: Attempting to set identical bottom==top results\n",
      "in singular transformations; automatically expanding.\n",
      "bottom=0.0, top=0.0\n",
      "  'bottom=%s, top=%s') % (bottom, top))\n",
      "/Users/zpeng8/anaconda3/lib/python3.6/site-packages/matplotlib/axes/_base.py:3239: UserWarning: Attempting to set identical bottom==top results\n",
      "in singular transformations; automatically expanding.\n",
      "bottom=1.0, top=1.0\n",
      "  'bottom=%s, top=%s') % (bottom, top))\n",
      "/Users/zpeng8/anaconda3/lib/python3.6/site-packages/matplotlib/axes/_base.py:3239: UserWarning: Attempting to set identical bottom==top results\n",
      "in singular transformations; automatically expanding.\n",
      "bottom=3.0, top=3.0\n",
      "  'bottom=%s, top=%s') % (bottom, top))\n"
     ]
    },
    {
     "data": {
      "text/plain": [
       "array([[<matplotlib.axes._subplots.AxesSubplot object at 0x1a1285ed30>,\n",
       "        <matplotlib.axes._subplots.AxesSubplot object at 0x1a6490a5f8>,\n",
       "        <matplotlib.axes._subplots.AxesSubplot object at 0x1a12885ba8>,\n",
       "        ...,\n",
       "        <matplotlib.axes._subplots.AxesSubplot object at 0x1a34700f60>,\n",
       "        <matplotlib.axes._subplots.AxesSubplot object at 0x1a34738f60>,\n",
       "        <matplotlib.axes._subplots.AxesSubplot object at 0x1a3476ef60>],\n",
       "       [<matplotlib.axes._subplots.AxesSubplot object at 0x1a347b8400>,\n",
       "        <matplotlib.axes._subplots.AxesSubplot object at 0x1a347e1a20>,\n",
       "        <matplotlib.axes._subplots.AxesSubplot object at 0x1a3481ca20>,\n",
       "        ...,\n",
       "        <matplotlib.axes._subplots.AxesSubplot object at 0x1a3f421860>,\n",
       "        <matplotlib.axes._subplots.AxesSubplot object at 0x1a3f42de48>,\n",
       "        <matplotlib.axes._subplots.AxesSubplot object at 0x1a3f486e10>],\n",
       "       [<matplotlib.axes._subplots.AxesSubplot object at 0x1a3f4bce10>,\n",
       "        <matplotlib.axes._subplots.AxesSubplot object at 0x1a3f502390>,\n",
       "        <matplotlib.axes._subplots.AxesSubplot object at 0x1a3f53b320>,\n",
       "        ...,\n",
       "        <matplotlib.axes._subplots.AxesSubplot object at 0x1a465c2470>,\n",
       "        <matplotlib.axes._subplots.AxesSubplot object at 0x1a466758d0>,\n",
       "        <matplotlib.axes._subplots.AxesSubplot object at 0x1a466ae8d0>],\n",
       "       ..., \n",
       "       [<matplotlib.axes._subplots.AxesSubplot object at 0x1b1213af28>,\n",
       "        <matplotlib.axes._subplots.AxesSubplot object at 0x1b12140a90>,\n",
       "        <matplotlib.axes._subplots.AxesSubplot object at 0x1b121cf0f0>,\n",
       "        ...,\n",
       "        <matplotlib.axes._subplots.AxesSubplot object at 0x1b1372b860>,\n",
       "        <matplotlib.axes._subplots.AxesSubplot object at 0x1b13749a90>,\n",
       "        <matplotlib.axes._subplots.AxesSubplot object at 0x1b137a70f0>],\n",
       "       [<matplotlib.axes._subplots.AxesSubplot object at 0x1b13800f28>,\n",
       "        <matplotlib.axes._subplots.AxesSubplot object at 0x1b13830a90>,\n",
       "        <matplotlib.axes._subplots.AxesSubplot object at 0x1b1385b8d0>,\n",
       "        ...,\n",
       "        <matplotlib.axes._subplots.AxesSubplot object at 0x1b14d978d0>,\n",
       "        <matplotlib.axes._subplots.AxesSubplot object at 0x1b14dadda0>,\n",
       "        <matplotlib.axes._subplots.AxesSubplot object at 0x1b14e38f28>],\n",
       "       [<matplotlib.axes._subplots.AxesSubplot object at 0x1b14e51a90>,\n",
       "        <matplotlib.axes._subplots.AxesSubplot object at 0x1b14ebe390>,\n",
       "        <matplotlib.axes._subplots.AxesSubplot object at 0x1b14eea860>,\n",
       "        ...,\n",
       "        <matplotlib.axes._subplots.AxesSubplot object at 0x1b1649be10>,\n",
       "        <matplotlib.axes._subplots.AxesSubplot object at 0x1b1643f320>,\n",
       "        <matplotlib.axes._subplots.AxesSubplot object at 0x1b164670f0>]], dtype=object)"
      ]
     },
     "execution_count": 358,
     "metadata": {},
     "output_type": "execute_result"
    }
   ],
   "source": [
    "plotting.scatter_matrix(loan_data[all_keys])"
   ]
  },
  {
   "cell_type": "code",
   "execution_count": null,
   "metadata": {
    "collapsed": true,
    "scrolled": true
   },
   "outputs": [],
   "source": [
    "matplotlib.axes._subplots.AxesSubplot object at 0x1b164670f0>"
   ]
  },
  {
   "cell_type": "code",
   "execution_count": 7,
   "metadata": {},
   "outputs": [
    {
     "name": "stdout",
     "output_type": "stream",
     "text": [
      "614\n"
     ]
    }
   ],
   "source": [
    "counter = 1\n",
    "for i in loan_data[\"acc_now_delinq\"]:\n",
    "    if i == 1.0:\n",
    "        counter+=1\n",
    "print(counter)"
   ]
  },
  {
   "cell_type": "code",
   "execution_count": 18,
   "metadata": {},
   "outputs": [
    {
     "data": {
      "text/plain": [
       "0                    Current\n",
       "1                    Current\n",
       "2                    Current\n",
       "3                    Current\n",
       "4                    Current\n",
       "5                    Current\n",
       "6                    Current\n",
       "7                    Current\n",
       "8                    Current\n",
       "9                    Current\n",
       "10                   Current\n",
       "11                   Current\n",
       "12                   Current\n",
       "13                   Current\n",
       "14                   Current\n",
       "15                   Current\n",
       "16                   Current\n",
       "17                   Current\n",
       "18                   Current\n",
       "19                   Current\n",
       "20                   Current\n",
       "21                   Current\n",
       "22                   Current\n",
       "23                   Current\n",
       "24                   Current\n",
       "25                   Current\n",
       "26                   Current\n",
       "27                   Current\n",
       "28                   Current\n",
       "29                   Current\n",
       "                 ...        \n",
       "122673               Current\n",
       "122674               Current\n",
       "122675               Current\n",
       "122676           Charged Off\n",
       "122677               Current\n",
       "122678    Late (31-120 days)\n",
       "122679               Current\n",
       "122680            Fully Paid\n",
       "122681            Fully Paid\n",
       "122682               Current\n",
       "122683               Current\n",
       "122684               Current\n",
       "122685               Current\n",
       "122686               Current\n",
       "122687            Fully Paid\n",
       "122688               Current\n",
       "122689     Late (16-30 days)\n",
       "122690    Late (31-120 days)\n",
       "122691               Current\n",
       "122692               Current\n",
       "122693       In Grace Period\n",
       "122694               Current\n",
       "122695               Current\n",
       "122696               Current\n",
       "122697               Current\n",
       "122698            Fully Paid\n",
       "122699    Late (31-120 days)\n",
       "122700               Current\n",
       "122701                   NaN\n",
       "122702                   NaN\n",
       "Name: loan_status, Length: 122703, dtype: object"
      ]
     },
     "execution_count": 18,
     "metadata": {},
     "output_type": "execute_result"
    }
   ],
   "source": [
    "df[\"loan_status\"]"
   ]
  },
  {
   "cell_type": "code",
   "execution_count": null,
   "metadata": {
    "collapsed": true
   },
   "outputs": [],
   "source": []
  }
 ],
 "metadata": {
  "kernelspec": {
   "display_name": "Python 3",
   "language": "python",
   "name": "python3"
  },
  "language_info": {
   "codemirror_mode": {
    "name": "ipython",
    "version": 3
   },
   "file_extension": ".py",
   "mimetype": "text/x-python",
   "name": "python",
   "nbconvert_exporter": "python",
   "pygments_lexer": "ipython3",
   "version": "3.6.3"
  }
 },
 "nbformat": 4,
 "nbformat_minor": 2
}
